{
  "nbformat": 4,
  "nbformat_minor": 0,
  "metadata": {
    "colab": {
      "provenance": [],
      "authorship_tag": "ABX9TyOuZPiG5VMO+saZCRt/CrbV",
      "include_colab_link": true
    },
    "kernelspec": {
      "name": "python3",
      "display_name": "Python 3"
    },
    "language_info": {
      "name": "python"
    }
  },
  "cells": [
    {
      "cell_type": "markdown",
      "metadata": {
        "id": "view-in-github",
        "colab_type": "text"
      },
      "source": [
        "<a href=\"https://colab.research.google.com/github/dinoboy22/Machine-learning-Math/blob/main/MLmath_hw1.ipynb\" target=\"_parent\"><img src=\"https://colab.research.google.com/assets/colab-badge.svg\" alt=\"Open In Colab\"/></a>"
      ]
    },
    {
      "cell_type": "code",
      "execution_count": 25,
      "metadata": {
        "id": "EuCADrIUMR6e"
      },
      "outputs": [],
      "source": [
        "import numpy as np\n",
        "import matplotlib.pyplot as plt\n",
        "from sklearn.preprocessing import add_dummy_feature\n",
        "from sklearn.linear_model import LinearRegression\n",
        "from sklearn.linear_model import SGDRegressor\n",
        "from sklearn.preprocessing import PolynomialFeatures\n",
        "from sklearn.model_selection import learning_curve\n",
        "from sklearn.pipeline import make_pipeline\n",
        "from sklearn.linear_model import Ridge\n"
      ]
    },
    {
      "cell_type": "code",
      "source": [
        "np.random.seed(42)   #난수로 생성한 결과값이 특정한 하나의 결괏값으로 고정되도록 하는 함수\n",
        "m = 100\n",
        "X = 2*np.random.rand(m,1)              #0과 2사이의 독립 변수의 집합인 X 벡터를 생성\n",
        "y = 4+3*X+np.random.randn(m,1)         # 종속 변수의 집합인 y벡터를 생성하는데 거기에 노이즈를 추가"
      ],
      "metadata": {
        "id": "MkiCDJrjkMpr"
      },
      "execution_count": 26,
      "outputs": []
    },
    {
      "cell_type": "code",
      "source": [
        "X_b = add_dummy_feature(X)           #1로 이루어진 컬럼을 첫번째 컬럼에 추가\n",
        "theta_best = np.linalg.inv(X_b.T @ X_b) @ X_b.T @y         #정규 방정식을 코드로 표현한 것이고 numpy의 linalg 모듈에 있는 inv() 함수를 역행렬 계산을 위해 가져옴"
      ],
      "metadata": {
        "id": "TouFsUWhkN8T"
      },
      "execution_count": 27,
      "outputs": []
    },
    {
      "cell_type": "code",
      "source": [
        "theta_best"
      ],
      "metadata": {
        "id": "iZ2K8ex9kQO4",
        "colab": {
          "base_uri": "https://localhost:8080/"
        },
        "outputId": "1fb0662d-8f9e-4567-fe62-b1d5ef7716a5"
      },
      "execution_count": 28,
      "outputs": [
        {
          "output_type": "execute_result",
          "data": {
            "text/plain": [
              "array([[4.21509616],\n",
              "       [2.77011339]])"
            ]
          },
          "metadata": {},
          "execution_count": 28
        }
      ]
    },
    {
      "cell_type": "code",
      "source": [
        "X_new = np.array([[0],[2]])           #(2,1)의 array 생성\n",
        "X_new_b = add_dummy_feature(X_new)    #1로 이루어진 컬럼을 첫번째 컬럼에 추가\n",
        "y_predict = X_new_b @ theta_best       #가중치와 행렬 곱셈을 수행해 예측값 생성\n",
        "y_predict"
      ],
      "metadata": {
        "id": "_SjKuMEukQ7q",
        "colab": {
          "base_uri": "https://localhost:8080/"
        },
        "outputId": "f20f05c5-97d9-4f23-b75b-c5d0f84423a1"
      },
      "execution_count": 29,
      "outputs": [
        {
          "output_type": "execute_result",
          "data": {
            "text/plain": [
              "array([[4.21509616],\n",
              "       [9.75532293]])"
            ]
          },
          "metadata": {},
          "execution_count": 29
        }
      ]
    },
    {
      "cell_type": "code",
      "source": [
        "#데이터 시각화\n",
        "plt.plot(X_new, y_predict, \"r-\", label=\"prediction\")       #X_new 데이터셋에 대한 모델의 예측값을 시각화(빨간색 실선)\n",
        "plt.plot(X,y,\"b.\")                    #파란색 점인 특성 데이터 X와 이에 따른 타겟 데이터 y 값을 시각화\n",
        "plt.xlabel(\"$x_1$\")                   #x축의 이름 생성\n",
        "plt.ylabel(\"$y$\", rotation=0)         #y축의 이름 생성\n",
        "plt.axis([0, 2, 0, 15])               #그래프 그릴 때 x축의 범위=[0,2], y축의 범위=[0,15]\n",
        "plt.grid()                            #격자 무늬 생성\n",
        "plt.legend(loc=\"upper left\")          #아래 그래프에서 prediction이 빨간선이라고 안내해주는 표지 생성하는 코드\n",
        "plt.show()                            #실행"
      ],
      "metadata": {
        "id": "rrD5LfuOkRFq",
        "colab": {
          "base_uri": "https://localhost:8080/",
          "height": 450
        },
        "outputId": "421d1a24-0c93-4db1-8fd2-cd7577314cbf"
      },
      "execution_count": 30,
      "outputs": [
        {
          "output_type": "display_data",
          "data": {
            "text/plain": [
              "<Figure size 640x480 with 1 Axes>"
            ],
            "image/png": "[encoded data removed]"
          },
          "metadata": {}
        }
      ]
    },
    {
      "cell_type": "code",
      "source": [
        "lin_reg = LinearRegression()   #LinearRegression 객체 호출\n",
        "lin_reg.fit(X,y)               #선형 회귀 모델 lin_reg을 활용해 우리가 생성한 데이터 X와 타겟 데이터 y에 대해 학습을 진행\n",
        "print(lin_reg.intercept_)      #intercept_라는 명령어로 훈련된 모델의 y절편을 출력\n",
        "print(lin_reg.coef_)           #coef_ 를 사용해서 훈련된 모델의 계수 출력\n",
        "lin_reg.predict(X_new)         #새로운 feature X_new에 대한 예측값 계산"
      ],
      "metadata": {
        "id": "RsqFZ1VOkROR",
        "colab": {
          "base_uri": "https://localhost:8080/"
        },
        "outputId": "56ab5561-51c8-43a2-f80c-8123c01dccc7"
      },
      "execution_count": 31,
      "outputs": [
        {
          "output_type": "stream",
          "name": "stdout",
          "text": [
            "[4.21509616]\n",
            "[[2.77011339]]\n"
          ]
        },
        {
          "output_type": "execute_result",
          "data": {
            "text/plain": [
              "array([[4.21509616],\n",
              "       [9.75532293]])"
            ]
          },
          "metadata": {},
          "execution_count": 31
        }
      ]
    },
    {
      "cell_type": "code",
      "source": [
        "theta_best_svd, residuals, rank, s = np.linalg.lstsq(X_b, y, rcond = 1e-6) #위에서 만든 feature X_b와 타겟 데이터 y를 이용해서 최소 제곱 회귀를 수행하고\n",
        "                                                                           #이 과정에서 rcond의 값보다 작은 특이값은 무시\n",
        "theta_best_svd  #출력"
      ],
      "metadata": {
        "id": "hsDXZmChkRWi",
        "colab": {
          "base_uri": "https://localhost:8080/"
        },
        "outputId": "869398b0-f975-4583-ed55-f391753993b2"
      },
      "execution_count": 32,
      "outputs": [
        {
          "output_type": "execute_result",
          "data": {
            "text/plain": [
              "array([[4.21509616],\n",
              "       [2.77011339]])"
            ]
          },
          "metadata": {},
          "execution_count": 32
        }
      ]
    },
    {
      "cell_type": "code",
      "source": [
        "np.linalg.pinv(X_b) @  y     #np.linalg.pinv() 함수를 이용하여 유사역행렬을 구하고 이를 이용해서 회귀 모델의 파라미터를 계산"
      ],
      "metadata": {
        "id": "E0KO1XTJkRbu",
        "colab": {
          "base_uri": "https://localhost:8080/"
        },
        "outputId": "6eedc0a5-3187-481d-df6b-ecb97b69b598"
      },
      "execution_count": 33,
      "outputs": [
        {
          "output_type": "execute_result",
          "data": {
            "text/plain": [
              "array([[4.21509616],\n",
              "       [2.77011339]])"
            ]
          },
          "metadata": {},
          "execution_count": 33
        }
      ]
    },
    {
      "cell_type": "code",
      "source": [
        "#경사하강법"
      ],
      "metadata": {
        "id": "HPIztoGakRgX"
      },
      "execution_count": null,
      "outputs": []
    },
    {
      "cell_type": "code",
      "source": [
        "eta = 0.1            #learning rate\n",
        "n_epochs = 1000        #훈련 횟수\n",
        "m = len(X_b)           #샘플 개수\n",
        "\n",
        "np.random.seed(42)\n",
        "theta = np.random.randn(2,1)                #2X1 벡터로 모델 파라미터를 랜덤하게 초기화\n",
        "\n",
        "for epoch in range(n_epochs):\n",
        "  gradients = 2 / m*X_b.T @ (X_b @ theta - y)            #비용 함수의 그레이디언트 벡터를 구하는 코드\n",
        "  theta = theta - eta * gradients                        #위로 향하는 그레이디언트 벡터가 구해지면 반대 방향인 아래로 가야하므로 빼야하고 내려가는 스텝의\n",
        "                                                         #크기를 결정하기 위해 여기에다가 학습률 eta를 곱해준 것\n"
      ],
      "metadata": {
        "id": "9ZjPpKMPkRkL"
      },
      "execution_count": 34,
      "outputs": []
    },
    {
      "cell_type": "code",
      "source": [
        "theta"
      ],
      "metadata": {
        "id": "OSdQXBaxkRoT",
        "colab": {
          "base_uri": "https://localhost:8080/"
        },
        "outputId": "620c0f49-16aa-4c6b-e870-777ccbe1f832"
      },
      "execution_count": 35,
      "outputs": [
        {
          "output_type": "execute_result",
          "data": {
            "text/plain": [
              "array([[4.21509616],\n",
              "       [2.77011339]])"
            ]
          },
          "metadata": {},
          "execution_count": 35
        }
      ]
    },
    {
      "cell_type": "code",
      "source": [
        "n_epochs = 50                  #50번 반복\n",
        "t0, t1 = 5, 50                 #학습 스케줄 파라미터(학습률 조절)\n",
        "def learning_schedule(t):      #시간 스텝 t 변수에 대한 학습률을 계산하는 함수\n",
        "  return t0 / (t+t1)\n",
        "\n",
        "np.random.seed(42)             #위에서 설명했음\n",
        "theta = np.random.rand(2,1)\n",
        "\n",
        "for epoch in range(n_epochs):\n",
        "  for iteration in range(m):\n",
        "    random_index = np.random.randint(m)                     #랜덤하게 0~m-1 사이의 정수를 선택\n",
        "    xi = X_b[random_index:random_index +1]                  #X_b 벡터에서 random_index 번째 인덱스에 있는 값으로 초기화\n",
        "    yi = y[random_index:random_index +1]                    #y 벡터에서 random_index 번째 인덱스에 있는 값으로 초기화\n",
        "    gradients = 2*xi.T @ (xi@theta - yi)                    #비용 함수의 편도함수 계산\n",
        "    eta = learning_schedule(epoch*m + iteration)            #위의 함수를 정의해 놓은 것에 따라 처음에는 학습률을 크게, 시간이 지날수록 학습률을 줄여나가고\n",
        "                                                            #시간 스텝에 따라 학습률을 초기화\n",
        "    theta = theta - eta*gradients                           #현재 모델 파라미터의 값들에서 업데이트할 양을 빼주고 초기화"
      ],
      "metadata": {
        "id": "h0inCEQTkR17"
      },
      "execution_count": 36,
      "outputs": []
    },
    {
      "cell_type": "code",
      "source": [
        "theta"
      ],
      "metadata": {
        "id": "3G3jdLfCkR5K",
        "colab": {
          "base_uri": "https://localhost:8080/"
        },
        "outputId": "71a6d06d-9f89-4c75-d518-be33d256a1eb"
      },
      "execution_count": 37,
      "outputs": [
        {
          "output_type": "execute_result",
          "data": {
            "text/plain": [
              "array([[4.21047895],\n",
              "       [2.74881457]])"
            ]
          },
          "metadata": {},
          "execution_count": 37
        }
      ]
    },
    {
      "cell_type": "code",
      "source": [
        "sgd_reg = SGDRegressor(max_iter=1000, tol=1e-5, penalty=None, eta0=0.01,\n",
        "                       n_iter_no_change=100, random_state=42)           #SGDRegressor 클래스를 이용하여 최대 1000번의 에포크동안 손실이 1e-5보다 작아질때까지\n",
        "                                                            #0.01의 학습률로 100번 동안 반복했는데도 손실이 충분히 감소하지 않으면 훈련을 중지하도록 세팅\n",
        "sgd_reg.fit(X, y.ravel())             #feature X와 타겟 데이터 y를 사용하여 SGD모델 훈련"
      ],
      "metadata": {
        "id": "2zFaMutVkSAU",
        "colab": {
          "base_uri": "https://localhost:8080/",
          "height": 74
        },
        "outputId": "6f1a993f-e0ba-4d15-a158-25a68b0a4e14"
      },
      "execution_count": 38,
      "outputs": [
        {
          "output_type": "execute_result",
          "data": {
            "text/plain": [
              "SGDRegressor(n_iter_no_change=100, penalty=None, random_state=42, tol=1e-05)"
            ],
            "text/html": [
              "<style>#sk-container-id-2 {color: black;background-color: white;}#sk-container-id-2 pre{padding: 0;}#sk-container-id-2 div.sk-toggleable {background-color: white;}#sk-container-id-2 label.sk-toggleable__label {cursor: pointer;display: block;width: 100%;margin-bottom: 0;padding: 0.3em;box-sizing: border-box;text-align: center;}#sk-container-id-2 label.sk-toggleable__label-arrow:before {content: \"▸\";float: left;margin-right: 0.25em;color: #696969;}#sk-container-id-2 label.sk-toggleable__label-arrow:hover:before {color: black;}#sk-container-id-2 div.sk-estimator:hover label.sk-toggleable__label-arrow:before {color: black;}#sk-container-id-2 div.sk-toggleable__content {max-height: 0;max-width: 0;overflow: hidden;text-align: left;background-color: #f0f8ff;}#sk-container-id-2 div.sk-toggleable__content pre {margin: 0.2em;color: black;border-radius: 0.25em;background-color: #f0f8ff;}#sk-container-id-2 input.sk-toggleable__control:checked~div.sk-toggleable__content {max-height: 200px;max-width: 100%;overflow: auto;}#sk-container-id-2 input.sk-toggleable__control:checked~label.sk-toggleable__label-arrow:before {content: \"▾\";}#sk-container-id-2 div.sk-estimator input.sk-toggleable__control:checked~label.sk-toggleable__label {background-color: #d4ebff;}#sk-container-id-2 div.sk-label input.sk-toggleable__control:checked~label.sk-toggleable__label {background-color: #d4ebff;}#sk-container-id-2 input.sk-hidden--visually {border: 0;clip: rect(1px 1px 1px 1px);clip: rect(1px, 1px, 1px, 1px);height: 1px;margin: -1px;overflow: hidden;padding: 0;position: absolute;width: 1px;}#sk-container-id-2 div.sk-estimator {font-family: monospace;background-color: #f0f8ff;border: 1px dotted black;border-radius: 0.25em;box-sizing: border-box;margin-bottom: 0.5em;}#sk-container-id-2 div.sk-estimator:hover {background-color: #d4ebff;}#sk-container-id-2 div.sk-parallel-item::after {content: \"\";width: 100%;border-bottom: 1px solid gray;flex-grow: 1;}#sk-container-id-2 div.sk-label:hover label.sk-toggleable__label {background-color: #d4ebff;}#sk-container-id-2 div.sk-serial::before {content: \"\";position: absolute;border-left: 1px solid gray;box-sizing: border-box;top: 0;bottom: 0;left: 50%;z-index: 0;}#sk-container-id-2 div.sk-serial {display: flex;flex-direction: column;align-items: center;background-color: white;padding-right: 0.2em;padding-left: 0.2em;position: relative;}#sk-container-id-2 div.sk-item {position: relative;z-index: 1;}#sk-container-id-2 div.sk-parallel {display: flex;align-items: stretch;justify-content: center;background-color: white;position: relative;}#sk-container-id-2 div.sk-item::before, #sk-container-id-2 div.sk-parallel-item::before {content: \"\";position: absolute;border-left: 1px solid gray;box-sizing: border-box;top: 0;bottom: 0;left: 50%;z-index: -1;}#sk-container-id-2 div.sk-parallel-item {display: flex;flex-direction: column;z-index: 1;position: relative;background-color: white;}#sk-container-id-2 div.sk-parallel-item:first-child::after {align-self: flex-end;width: 50%;}#sk-container-id-2 div.sk-parallel-item:last-child::after {align-self: flex-start;width: 50%;}#sk-container-id-2 div.sk-parallel-item:only-child::after {width: 0;}#sk-container-id-2 div.sk-dashed-wrapped {border: 1px dashed gray;margin: 0 0.4em 0.5em 0.4em;box-sizing: border-box;padding-bottom: 0.4em;background-color: white;}#sk-container-id-2 div.sk-label label {font-family: monospace;font-weight: bold;display: inline-block;line-height: 1.2em;}#sk-container-id-2 div.sk-label-container {text-align: center;}#sk-container-id-2 div.sk-container {/* jupyter's `normalize.less` sets `[hidden] { display: none; }` but bootstrap.min.css set `[hidden] { display: none !important; }` so we also need the `!important` here to be able to override the default hidden behavior on the sphinx rendered scikit-learn.org. See: https://github.com/scikit-learn/scikit-learn/issues/21755 */display: inline-block !important;position: relative;}#sk-container-id-2 div.sk-text-repr-fallback {display: none;}</style><div id=\"sk-container-id-2\" class=\"sk-top-container\"><div class=\"sk-text-repr-fallback\"><pre>SGDRegressor(n_iter_no_change=100, penalty=None, random_state=42, tol=1e-05)</pre><b>In a Jupyter environment, please rerun this cell to show the HTML representation or trust the notebook. <br />On GitHub, the HTML representation is unable to render, please try loading this page with nbviewer.org.</b></div><div class=\"sk-container\" hidden><div class=\"sk-item\"><div class=\"sk-estimator sk-toggleable\"><input class=\"sk-toggleable__control sk-hidden--visually\" id=\"sk-estimator-id-2\" type=\"checkbox\" checked><label for=\"sk-estimator-id-2\" class=\"sk-toggleable__label sk-toggleable__label-arrow\">SGDRegressor</label><div class=\"sk-toggleable__content\"><pre>SGDRegressor(n_iter_no_change=100, penalty=None, random_state=42, tol=1e-05)</pre></div></div></div></div></div>"
            ]
          },
          "metadata": {},
          "execution_count": 38
        }
      ]
    },
    {
      "cell_type": "code",
      "source": [
        "sgd_reg.intercept_, sgd_reg.coef_               #절편과 계수 출력"
      ],
      "metadata": {
        "colab": {
          "base_uri": "https://localhost:8080/"
        },
        "id": "1vBqZLF3muhO",
        "outputId": "3e863e17-6e41-4dcc-d333-db3e6505e568"
      },
      "execution_count": 39,
      "outputs": [
        {
          "output_type": "execute_result",
          "data": {
            "text/plain": [
              "(array([4.21278812]), array([2.77270267]))"
            ]
          },
          "metadata": {},
          "execution_count": 39
        }
      ]
    },
    {
      "cell_type": "code",
      "source": [
        "#다항회귀"
      ],
      "metadata": {
        "id": "lEuJ9FU_mvIC"
      },
      "execution_count": null,
      "outputs": []
    },
    {
      "cell_type": "code",
      "source": [
        "np.random.seed(42)\n",
        "m = 100\n",
        "X = 6 * np.random.rand(m, 1) - 3       #-3에서 3 사이의 x값 생성\n",
        "y = 0.5 * X ** 2 + X + 2 + np.random.randn(m, 1)   #노이즈가 포함된 이차방정식 꼴의 데이터"
      ],
      "metadata": {
        "id": "xLuaYJ51kSEZ"
      },
      "execution_count": 40,
      "outputs": []
    },
    {
      "cell_type": "code",
      "source": [
        "poly_features = PolynomialFeatures(degree=2, include_bias=False)       #2차 다항식의 특성으로 생성하고, 편향항은 생성하지 않는다\n",
        "X_poly = poly_features.fit_transform(X)               #fit.transform() 메소드를 활용해 poly_feature의 차수와 특성을 바탕으로 X에 대한 변환을 학습한다\n",
        "print(X[0])            #확인\n",
        "X_poly[0]"
      ],
      "metadata": {
        "id": "tPZJd9SQkSIH",
        "colab": {
          "base_uri": "https://localhost:8080/"
        },
        "outputId": "51e9df41-0aca-4311-ba52-984502cbc59c"
      },
      "execution_count": 42,
      "outputs": [
        {
          "output_type": "stream",
          "name": "stdout",
          "text": [
            "[-0.75275929]\n"
          ]
        },
        {
          "output_type": "execute_result",
          "data": {
            "text/plain": [
              "array([-0.75275929,  0.56664654])"
            ]
          },
          "metadata": {},
          "execution_count": 42
        }
      ]
    },
    {
      "cell_type": "code",
      "source": [
        "lin_reg = LinearRegression()            #LinearRegression 객체 호출\n",
        "lin_reg.fit(X_poly, y)             #선형 회귀 모델 lin_reg을 활용해 우리가 만든 데이터 X_poly와 타켓 데이터 y에 대해 학습을 진행\n",
        "lin_reg.intercept_, lin_reg.coef_        #모델의 y 절편을 의미, 모델의 특성에 대해 가중치를 의미(weights)"
      ],
      "metadata": {
        "colab": {
          "base_uri": "https://localhost:8080/"
        },
        "id": "B0haZndCmxdD",
        "outputId": "36f49b88-5f47-41b5-a863-ca19f655ed41"
      },
      "execution_count": 44,
      "outputs": [
        {
          "output_type": "execute_result",
          "data": {
            "text/plain": [
              "(array([1.78134581]), array([[0.93366893, 0.56456263]]))"
            ]
          },
          "metadata": {},
          "execution_count": 44
        }
      ]
    },
    {
      "cell_type": "code",
      "source": [
        "#학습 곡선"
      ],
      "metadata": {
        "id": "oKbYAR_npSDv"
      },
      "execution_count": null,
      "outputs": []
    },
    {
      "cell_type": "code",
      "source": [
        "train_sizes, train_scores, valid_scores = learning_curve(\n",
        "    LinearRegression(), X, y, train_sizes=np.linspace(0.01, 1.0, 40), cv=5,\n",
        "    scoring=\"neg_root_mean_squared_error\")  #학습 곡선을 계산하는 함수인 learning curve를 불러와 어떤 모델인지, feature data, 타겟 데이터, 훈련 세트 사이즈,\n",
        "                                            #교차 검증을 위한 fold의수, validation 지표를 입력\n",
        "train_errors = -train_scores.mean(axis=1)\n",
        "valid_errors = -valid_scores.mean(axis=1)   #mean(axis=1) 메소드를 사용해서 각 행에 대한 평균을 계산한 후 각 훈련 세트 크기에서의 평균 RMSE를 얻음(train, test)\n",
        "\n",
        "\n",
        "#위에서와 동일한 matplotlib을 활용한 데이터 시각화 구현 코드\n",
        "plt.figure(figsize=(6, 4))    #그래프의 크기 조절\n",
        "plt.plot(train_sizes, train_errors, \"r-+\", linewidth=2, label=\"train\")\n",
        "plt.plot(train_sizes, valid_errors, \"b-\", linewidth=3, label=\"valid\")\n",
        "plt.xlabel(\"Training set size\")\n",
        "plt.ylabel(\"RMSE\")\n",
        "plt.grid()\n",
        "plt.legend(loc=\"upper right\")\n",
        "plt.axis([0, 80, 0, 2.5])\n",
        "plt.show()"
      ],
      "metadata": {
        "colab": {
          "base_uri": "https://localhost:8080/",
          "height": 393
        },
        "id": "S7kOz9MGpU7U",
        "outputId": "506ba8c3-426e-4514-9e4d-c7551102371d"
      },
      "execution_count": 45,
      "outputs": [
        {
          "output_type": "display_data",
          "data": {
            "text/plain": [
              "<Figure size 600x400 with 1 Axes>"
            ],
            "image/png": "[encoded data removed]"
          },
          "metadata": {}
        }
      ]
    },
    {
      "cell_type": "code",
      "source": [
        "polynomial_regression = make_pipeline(            #파이프라인은 전처리의 각 단계, 모델 생성, 학습 등을 포함하는 머신러닝 프로세스를 한번에 처리하는 클래스\n",
        "    PolynomialFeatures(degree=10, include_bias=False),\n",
        "    LinearRegression())             #10차 다항식의 특성으로 생성하고, 편향항은 생성하지 않는다. 최종 estimator는 LinearRegression\n",
        "\n",
        "train_sizes, train_scores, valid_scores = learning_curve(  #위에서 설명한 learning curve 함수를 불러오는데 우리가 바로 위에서 세팅한 10차 다항 회귀 모델을 넣어줌\n",
        "    polynomial_regression, X, y, train_sizes=np.linspace(0.01, 1.0, 40), cv=5,\n",
        "    scoring=\"neg_root_mean_squared_error\")"
      ],
      "metadata": {
        "id": "NkeDCXuvpVM7"
      },
      "execution_count": 46,
      "outputs": []
    },
    {
      "cell_type": "code",
      "source": [
        "train_errors = -train_scores.mean(axis=1) #mean(axis=1) 메소드를 사용해서 각 행에 대한 평균을 계산한 후 각 훈련 세트 크기에서의 평균 RMSE를 얻음(train, test)\n",
        "valid_errors = -valid_scores.mean(axis=1)\n",
        "\n",
        "#위에서 설명한 데이터 시각화\n",
        "plt.figure(figsize=(6, 4))\n",
        "plt.plot(train_sizes, train_errors, \"r-+\", linewidth=2, label=\"train\")\n",
        "plt.plot(train_sizes, valid_errors, \"b-\", linewidth=3, label=\"valid\")\n",
        "plt.legend(loc=\"upper right\")\n",
        "plt.xlabel(\"Training set size\")\n",
        "plt.ylabel(\"RMSE\")\n",
        "plt.grid()\n",
        "plt.axis([0, 80, 0, 2.5])\n",
        "plt.show()"
      ],
      "metadata": {
        "colab": {
          "base_uri": "https://localhost:8080/",
          "height": 393
        },
        "id": "W_4nl9DkpVoP",
        "outputId": "6238fe1f-cb8a-4a9b-f9b9-314d13dcb065"
      },
      "execution_count": 47,
      "outputs": [
        {
          "output_type": "display_data",
          "data": {
            "text/plain": [
              "<Figure size 600x400 with 1 Axes>"
            ],
            "image/png": "[encoded data removed]"
          },
          "metadata": {}
        }
      ]
    },
    {
      "cell_type": "code",
      "source": [
        "ridge_reg = Ridge(alpha=0.1, solver=\"cholesky\")           #릿지 회귀의 비용 함수의 가장 주요한 변수인 알파값을 넣어주고\n",
        "                                                         #숄레스키의 행렬 분해를 이용하여 릿지 회귀 정규 방정식을 변형하여 넣어주고 계산하는 함수\n",
        "ridge_reg.fit(X, y)                                      #데이터셋 넣어주고 피팅\n",
        "ridge_reg.predict([[1.5]])                               #새로운 데이터 넣어주고 예측(책의 값이랑 다른 것은 X,y를 다르게 정의했기 때문)"
      ],
      "metadata": {
        "colab": {
          "base_uri": "https://localhost:8080/"
        },
        "id": "tI4zww6XpV7i",
        "outputId": "2bb1baa1-2671-467e-a474-e5371ea909e2"
      },
      "execution_count": 50,
      "outputs": [
        {
          "output_type": "execute_result",
          "data": {
            "text/plain": [
              "array([[4.82899748]])"
            ]
          },
          "metadata": {},
          "execution_count": 50
        }
      ]
    },
    {
      "cell_type": "code",
      "source": [
        "sgd_reg = SGDRegressor(penalty=\"l2\", alpha=0.1 / m, tol=None,            #릿지 회귀를 적용한 SGD 회귀 모델을 훈련\n",
        "                       max_iter=1000, eta0=0.01, random_state=42)        #알파와  m 하이퍼파라미터 넣어주고 허용 오차는 지정X, 최대 반복 횟수 100, 초기 학습류 0.01\n",
        "sgd_reg.fit(X, y.ravel())                                                #y.ravel()을 이용하여 타겟 데이터를 1차원 배열로 만들어준 다음 모델에 데이터 넣어주고 훈련\n",
        "sgd_reg.predict([[1.5]])                                                 #새로운 데이터 넣어주고 예측"
      ],
      "metadata": {
        "colab": {
          "base_uri": "https://localhost:8080/"
        },
        "id": "yLd50NBipWOH",
        "outputId": "90b02870-be05-48a1-93db-dd78a38de7b7"
      },
      "execution_count": 51,
      "outputs": [
        {
          "output_type": "execute_result",
          "data": {
            "text/plain": [
              "array([4.82830117])"
            ]
          },
          "metadata": {},
          "execution_count": 51
        }
      ]
    },
    {
      "cell_type": "code",
      "source": [],
      "metadata": {
        "id": "TpiOw_P3pWeA"
      },
      "execution_count": null,
      "outputs": []
    },
    {
      "cell_type": "code",
      "source": [],
      "metadata": {
        "id": "YDyV6qanpYY9"
      },
      "execution_count": null,
      "outputs": []
    },
    {
      "cell_type": "code",
      "source": [],
      "metadata": {
        "id": "_owJsQf4pYp-"
      },
      "execution_count": null,
      "outputs": []
    },
    {
      "cell_type": "code",
      "source": [],
      "metadata": {
        "id": "6fQhQB52pZlK"
      },
      "execution_count": null,
      "outputs": []
    }
  ]
}